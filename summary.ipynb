{
 "cells": [
  {
   "metadata": {},
   "cell_type": "markdown",
   "source": [
    "Total params: 51,474,820\n",
    "Trainable params: 51,474,820\n",
    "Non-trainable params: 0\n",
    "----------------------------------------------------------------\n",
    "Input size (MB): 0.19\n",
    "Forward/backward pass size (MB): 187.18\n",
    "Params size (MB): 196.36\n",
    "Estimated Total Size (MB): 383.73"
   ],
   "id": "bcb8f833987a6c24"
  },
  {
   "metadata": {
    "ExecuteTime": {
     "end_time": "2024-11-17T09:31:49.527696Z",
     "start_time": "2024-11-17T09:31:49.131747Z"
    }
   },
   "cell_type": "code",
   "source": "!python inference.py --img /home/vakidzaci/PycharmProjects/by_test/data/test/0_0.jpg",
   "id": "b7d1c485dbe07b53",
   "outputs": [
    {
     "name": "stdout",
     "output_type": "stream",
     "text": [
      "Inference result for /home/vakidzaci/PycharmProjects/by_test/data/test/0_0.jpg: Label=[0], Probabilities=[[9.9984777e-01 8.7860353e-05 3.5190522e-05 2.9235482e-05]]\r\n"
     ]
    }
   ],
   "execution_count": 1
  },
  {
   "metadata": {},
   "cell_type": "markdown",
   "source": "![metrics](myplot.png)",
   "id": "ef319b77cf1926b4"
  },
  {
   "metadata": {},
   "cell_type": "markdown",
   "source": "As you can see from the confusion matrix, the most problematic lass is class 2. Since there is huge overlap with both class 1 and class 3.",
   "id": "b173f60cf891e0ed"
  }
 ],
 "metadata": {
  "kernelspec": {
   "display_name": "Python 3",
   "language": "python",
   "name": "python3"
  },
  "language_info": {
   "codemirror_mode": {
    "name": "ipython",
    "version": 2
   },
   "file_extension": ".py",
   "mimetype": "text/x-python",
   "name": "python",
   "nbconvert_exporter": "python",
   "pygments_lexer": "ipython2",
   "version": "2.7.6"
  }
 },
 "nbformat": 4,
 "nbformat_minor": 5
}
